{
 "cells": [
  {
   "cell_type": "code",
   "execution_count": 1,
   "metadata": {
    "collapsed": true
   },
   "outputs": [],
   "source": [
    "# Começando com os imports\n",
    "import csv\n",
    "import matplotlib.pyplot as plt"
   ]
  },
  {
   "cell_type": "code",
   "execution_count": 2,
   "metadata": {
    "collapsed": false
   },
   "outputs": [
    {
     "name": "stdout",
     "output_type": "stream",
     "text": [
      "Lendo o documento...\n",
      "Ok!\n"
     ]
    }
   ],
   "source": [
    "# Vamos ler os dados como uma lista\n",
    "print(\"Lendo o documento...\")\n",
    "with open(\"chicago.csv\", \"r\") as file_read:\n",
    "    reader = csv.reader(file_read)\n",
    "    data_list = list(reader)\n",
    "print(\"Ok!\")"
   ]
  },
  {
   "cell_type": "code",
   "execution_count": 3,
   "metadata": {
    "collapsed": false
   },
   "outputs": [
    {
     "name": "stdout",
     "output_type": "stream",
     "text": [
      "Número de linhas:\n",
      "1551506\n"
     ]
    }
   ],
   "source": [
    "# Vamos verificar quantas linhas nós temos\n",
    "print(\"Número de linhas:\")\n",
    "print(len(data_list))"
   ]
  },
  {
   "cell_type": "code",
   "execution_count": 4,
   "metadata": {
    "collapsed": false
   },
   "outputs": [
    {
     "name": "stdout",
     "output_type": "stream",
     "text": [
      "Linha 0: \n",
      "['Start Time', 'End Time', 'Trip Duration', 'Start Station', 'End Station', 'User Type', 'Gender', 'Birth Year']\n"
     ]
    }
   ],
   "source": [
    "# Imprimindo a primeira linha de data_list para verificar se funcionou.\n",
    "print(\"Linha 0: \")\n",
    "print(data_list[0])\n",
    "# É o cabeçalho dos dados, para que possamos identificar as colunas."
   ]
  },
  {
   "cell_type": "code",
   "execution_count": 5,
   "metadata": {
    "collapsed": false
   },
   "outputs": [
    {
     "name": "stdout",
     "output_type": "stream",
     "text": [
      "Linha 1: \n",
      "['2017-01-01 00:00:36', '2017-01-01 00:06:32', '356', 'Canal St & Taylor St', 'Canal St & Monroe St (*)', 'Customer', '', '']\n"
     ]
    }
   ],
   "source": [
    "# Imprimindo a segunda linha de data_list, ela deveria conter alguns dados\n",
    "print(\"Linha 1: \")\n",
    "print(data_list[1])"
   ]
  },
  {
   "cell_type": "code",
   "execution_count": 6,
   "metadata": {
    "collapsed": false
   },
   "outputs": [
    {
     "name": "stdout",
     "output_type": "stream",
     "text": [
      "\n",
      "\n",
      "TAREFA 1: Imprimindo as primeiras 20 amostras\n",
      "['2017-01-01 00:00:36', '2017-01-01 00:06:32', '356', 'Canal St & Taylor St', 'Canal St & Monroe St (*)', 'Customer', '', '']\n",
      "['2017-01-01 00:02:54', '2017-01-01 00:08:21', '327', 'Larrabee St & Menomonee St', 'Sheffield Ave & Kingsbury St', 'Subscriber', 'Male', '1984.0']\n",
      "['2017-01-01 00:06:06', '2017-01-01 00:18:31', '745', 'Orleans St & Chestnut St (NEXT Apts)', 'Ashland Ave & Blackhawk St', 'Subscriber', 'Male', '1985.0']\n",
      "['2017-01-01 00:07:28', '2017-01-01 00:12:51', '323', 'Franklin St & Monroe St', 'Clinton St & Tilden St', 'Subscriber', 'Male', '1990.0']\n",
      "['2017-01-01 00:07:57', '2017-01-01 00:20:53', '776', 'Broadway & Barry Ave', 'Sedgwick St & North Ave', 'Subscriber', 'Male', '1990.0']\n",
      "['2017-01-01 00:10:44', '2017-01-01 00:21:27', '643', 'State St & Kinzie St', 'Wells St & Polk St', 'Subscriber', 'Male', '1970.0']\n",
      "['2017-01-01 00:11:34', '2017-01-01 00:23:47', '733', 'Wabash Ave & Wacker Pl', 'Clinton St & Tilden St', 'Subscriber', 'Male', '1986.0']\n",
      "['2017-01-01 00:14:57', '2017-01-01 00:26:22', '685', 'Daley Center Plaza', 'Canal St & Monroe St (*)', 'Customer', '', '']\n",
      "['2017-01-01 00:15:03', '2017-01-01 00:26:28', '685', 'Daley Center Plaza', 'Canal St & Monroe St (*)', 'Customer', '', '']\n",
      "['2017-01-01 00:17:01', '2017-01-01 00:29:49', '768', 'Dayton St & North Ave', 'Ogden Ave & Chicago Ave', 'Customer', '', '']\n",
      "['2017-01-01 00:17:13', '2017-01-01 11:03:34', '38781', 'Wilton Ave & Diversey Pkwy', 'Halsted St & Wrightwood Ave', 'Subscriber', 'Female', '1988.0']\n",
      "['2017-01-01 00:18:28', '2017-01-01 00:31:05', '757', 'Canal St & Madison St', 'LaSalle St & Illinois St', 'Customer', '', '']\n",
      "['2017-01-01 00:18:50', '2017-01-01 00:21:47', '177', 'Theater on the Lake', 'Lakeview Ave & Fullerton Pkwy', 'Subscriber', 'Male', '1991.0']\n",
      "['2017-01-01 00:23:41', '2017-01-01 00:29:13', '332', 'Halsted St & Maxwell St', 'Halsted St & 18th St', 'Subscriber', 'Male', '1984.0']\n",
      "['2017-01-01 00:25:47', '2017-01-01 00:39:53', '846', 'Ravenswood Ave & Lawrence Ave', 'Clarendon Ave & Gordon Ter', 'Subscriber', 'Female', '1987.0']\n",
      "['2017-01-01 00:25:47', '2017-01-01 00:43:23', '1056', 'Clark St & Congress Pkwy', 'Wolcott Ave & Polk St', 'Subscriber', 'Male', '1984.0']\n",
      "['2017-01-01 00:26:21', '2017-01-01 00:39:40', '799', 'Ravenswood Ave & Lawrence Ave', 'Clarendon Ave & Gordon Ter', 'Subscriber', 'Male', '1987.0']\n",
      "['2017-01-01 00:27:21', '2017-01-01 00:42:59', '938', 'Millennium Park', 'Michigan Ave & 18th St', 'Subscriber', 'Male', '1991.0']\n",
      "['2017-01-01 00:27:28', '2017-01-01 00:42:44', '916', 'Millennium Park', 'Michigan Ave & 18th St', 'Subscriber', 'Female', '1990.0']\n",
      "['2017-01-01 00:27:45', '2017-01-01 00:31:13', '208', 'Damen Ave & Chicago Ave', 'Damen Ave & Division St', 'Subscriber', 'Male', '1982.0']\n"
     ]
    }
   ],
   "source": [
    "# TAREFA 1\n",
    "# TODO: Imprima as primeiras 20 linhas usando um loop para identificar os dados.\n",
    "print(\"\\n\\nTAREFA 1: Imprimindo as primeiras 20 amostras\")\n",
    "contador = 1\n",
    "while contador <= 20:\n",
    "    print(data_list[contador])\n",
    "    contador += 1"
   ]
  },
  {
   "cell_type": "code",
   "execution_count": 7,
   "metadata": {
    "collapsed": true
   },
   "outputs": [],
   "source": [
    "# Vamos mudar o data_list para remover o cabeçalho dele.\n",
    "data_list = data_list[1:]"
   ]
  },
  {
   "cell_type": "code",
   "execution_count": 8,
   "metadata": {
    "collapsed": false
   },
   "outputs": [
    {
     "name": "stdout",
     "output_type": "stream",
     "text": [
      "\n",
      "TAREFA 2: Imprimindo o gênero das primeiras 20 amostras\n",
      "\n",
      "Male\n",
      "Male\n",
      "Male\n",
      "Male\n",
      "Male\n",
      "Male\n",
      "\n",
      "\n",
      "\n",
      "Female\n",
      "\n",
      "Male\n",
      "Male\n",
      "Female\n",
      "Male\n",
      "Male\n",
      "Male\n",
      "Female\n",
      "Male\n"
     ]
    }
   ],
   "source": [
    "# TAREFA 2\n",
    "# TODO: Imprima o `gênero` das primeiras 20 linhas\n",
    "\n",
    "print(\"\\nTAREFA 2: Imprimindo o gênero das primeiras 20 amostras\")\n",
    "sample = data_list[:20]\n",
    "\n",
    "for x in sample:\n",
    "    print(x[6])\n",
    "    "
   ]
  },
  {
   "cell_type": "code",
   "execution_count": 9,
   "metadata": {
    "collapsed": true
   },
   "outputs": [],
   "source": [
    "# TAREFA 3\n",
    "# TODO: Crie uma função para adicionar as colunas(features) de uma lista em outra lista, na mesma ordem\n",
    "def column_to_list(data, index):\n",
    "    column_list = []\n",
    "    # Dica: Você pode usar um for para iterar sobre as amostras, pegar a feature pelo seu índice, e dar append para uma lista\n",
    "    for i in data_list:\n",
    "        column_list.append(i[index])\n",
    "    return column_list\n"
   ]
  },
  {
   "cell_type": "code",
   "execution_count": 10,
   "metadata": {
    "collapsed": false
   },
   "outputs": [
    {
     "name": "stdout",
     "output_type": "stream",
     "text": [
      "\n",
      "TAREFA 3: Imprimindo a lista de gêneros das primeiras 20 amostras\n",
      "['', 'Male', 'Male', 'Male', 'Male', 'Male', 'Male', '', '', '', 'Female', '', 'Male', 'Male', 'Female', 'Male', 'Male', 'Male', 'Female', 'Male']\n"
     ]
    }
   ],
   "source": [
    "# Vamos checar com os gêneros se isso está funcionando (apenas para os primeiros 20)\n",
    "print(\"\\nTAREFA 3: Imprimindo a lista de gêneros das primeiras 20 amostras\")\n",
    "print(column_to_list(data_list, -2)[:20])"
   ]
  },
  {
   "cell_type": "code",
   "execution_count": 11,
   "metadata": {
    "collapsed": true
   },
   "outputs": [],
   "source": [
    "# Agora sabemos como acessar as features, vamos contar quantos Male (Masculinos) e Female (Femininos) o dataset tem\n",
    "# TAREFA 4\n",
    "# TODO: Conte cada gênero. Você não deveria usar uma função para isso.\n",
    "male = 0\n",
    "female = 0\n",
    "\n",
    "for i in data_list:\n",
    "    if i[6] == \"Male\":\n",
    "        male += 1\n",
    "    elif i[6] == 'Female':\n",
    "        female += 1"
   ]
  },
  {
   "cell_type": "code",
   "execution_count": 12,
   "metadata": {
    "collapsed": false
   },
   "outputs": [
    {
     "name": "stdout",
     "output_type": "stream",
     "text": [
      "\n",
      "TAREFA 4: Imprimindo quantos masculinos e femininos nós encontramos\n",
      "Masculinos:  935854 \n",
      "Femininos:  298784\n"
     ]
    }
   ],
   "source": [
    "# Verificando o resultado\n",
    "print(\"\\nTAREFA 4: Imprimindo quantos masculinos e femininos nós encontramos\")\n",
    "print(\"Masculinos: \", male, \"\\nFemininos: \", female)"
   ]
  },
  {
   "cell_type": "code",
   "execution_count": 24,
   "metadata": {
    "collapsed": false
   },
   "outputs": [
    {
     "name": "stdout",
     "output_type": "stream",
     "text": [
      "1\n"
     ]
    }
   ],
   "source": [
    "x = data_list[6].count(\"Male\")\n",
    "print(x)"
   ]
  },
  {
   "cell_type": "code",
   "execution_count": 25,
   "metadata": {
    "collapsed": true
   },
   "outputs": [],
   "source": [
    "# Por que nós não criamos uma função para isso?\n",
    "# TAREFA 5\n",
    "# TODO: Crie uma função para contar os gêneros. Retorne uma lista.\n",
    "# Isso deveria retornar uma lista com [count_male, count_female] (exemplo: [10, 15] significa 10 Masculinos, 15 Femininos)\n",
    "def count_gender(data_list):\n",
    "    male = 0\n",
    "    female = 0\n",
    "    \n",
    "    for i in data_list:\n",
    "        if i[6] == \"Male\":\n",
    "            male += 1\n",
    "        elif i[6] == 'Female':\n",
    "            female += 1\n",
    "    return [male, female]\n",
    "\n"
   ]
  },
  {
   "cell_type": "code",
   "execution_count": 26,
   "metadata": {
    "collapsed": false
   },
   "outputs": [
    {
     "name": "stdout",
     "output_type": "stream",
     "text": [
      "\n",
      "TAREFA 5: Imprimindo o resultado de count_gender\n",
      "[935854, 298784]\n"
     ]
    }
   ],
   "source": [
    "print(\"\\nTAREFA 5: Imprimindo o resultado de count_gender\")\n",
    "print(count_gender(data_list))"
   ]
  },
  {
   "cell_type": "code",
   "execution_count": 35,
   "metadata": {
    "collapsed": true
   },
   "outputs": [],
   "source": [
    "# Agora que nós podemos contar os usuários, qual gênero é mais prevalente?\n",
    "# TAREFA 6\n",
    "# TODO: Crie uma função que pegue o gênero mais popular, e retorne este gênero como uma string.\n",
    "# Esperamos ver \"Male\", \"Female\", ou \"Equal\" como resposta.\n",
    "def most_popular_gender(data_list):\n",
    "    answer = \"\"\n",
    "    \n",
    "    male, female = count_gender(data_list)\n",
    "    if male > female:\n",
    "         answer = \"Male\"\n",
    "    elif female > male:\n",
    "        answer = \"Female\"\n",
    "    else:\n",
    "        answer = \"Equal\"\n",
    "    return answer"
   ]
  },
  {
   "cell_type": "code",
   "execution_count": 36,
   "metadata": {
    "collapsed": false
   },
   "outputs": [
    {
     "name": "stdout",
     "output_type": "stream",
     "text": [
      "\n",
      "TAREFA 6: Qual é o gênero mais popular na lista?\n",
      "O gênero mais popular na lista é:  Male\n"
     ]
    }
   ],
   "source": [
    "print(\"\\nTAREFA 6: Qual é o gênero mais popular na lista?\")\n",
    "print(\"O gênero mais popular na lista é: \", most_popular_gender(data_list))"
   ]
  },
  {
   "cell_type": "code",
   "execution_count": null,
   "metadata": {
    "collapsed": false
   },
   "outputs": [],
   "source": [
    "# Se tudo está rodando como esperado, verifique este gráfico!\n",
    "gender_list = column_to_list(data_list, -2)\n",
    "types = [\"Male\", \"Female\"]\n",
    "quantity = count_gender(data_list)\n",
    "y_pos = list(range(len(types)))\n",
    "plt.bar(y_pos, quantity)\n",
    "plt.ylabel('Quantidade')\n",
    "plt.xlabel('Gênero')\n",
    "plt.xticks(y_pos, types)\n",
    "plt.title('Quantidade por Gênero')\n",
    "plt.show(block=True)"
   ]
  },
  {
   "cell_type": "code",
   "execution_count": 41,
   "metadata": {
    "collapsed": false
   },
   "outputs": [
    {
     "data": {
      "image/png": "[encoded data removed]",
      "text/plain": [
       "<matplotlib.figure.Figure at 0x7f2090f142e8>"
      ]
     },
     "metadata": {},
     "output_type": "display_data"
    }
   ],
   "source": [
    "# TAREFA 7\n",
    "# TODO: Crie um gráfico similar para user_types. Tenha certeza que a legenda está correta.\n",
    "def count_user_type(data_list):\n",
    "    \"\"\"\n",
    "    Função para contagem dos user types da lista\n",
    "    :param data_list: O primeiro parâmetro (lista)\n",
    "    :return: Retorna a contagem do número de customer, subscriber, dependent\n",
    "    \"\"\"\n",
    "    customer = 0\n",
    "    subscriber = 0\n",
    "    dependent = 0\n",
    "# Laço para contar user types\n",
    "    for user_type in column_to_list(data_list, -3):\n",
    "        if user_type.lower() == 'customer':\n",
    "            customer += 1\n",
    "        elif user_type.lower() == 'subscriber':\n",
    "            subscriber += 1\n",
    "        \n",
    "\n",
    "    return [customer, subscriber]\n",
    "\n",
    "# Preparação do gráfico\n",
    "user_types_list = column_to_list(data_list, -3)\n",
    "types = [\"Customer\", \"Subscriber\"]\n",
    "quantity = count_user_type(data_list)\n",
    "y_pos = list(range(len(types)))\n",
    "plt.bar(y_pos, quantity)\n",
    "plt.ylabel('Quantidade')\n",
    "plt.xlabel('Tipo de Usuários')\n",
    "plt.xticks(y_pos, types)\n",
    "plt.title('Quantidade por Usuários')\n",
    "plt.show(block=True)"
   ]
  },
  {
   "cell_type": "code",
   "execution_count": 43,
   "metadata": {
    "collapsed": false
   },
   "outputs": [
    {
     "name": "stdout",
     "output_type": "stream",
     "text": [
      "\n",
      "TAREFA 8: Por que a condição a seguir é Falsa?\n",
      "male + female == len(data_list): False\n",
      "resposta: Porque na data_list generos possui uma grande quantidade de valores nulos.\n"
     ]
    }
   ],
   "source": [
    "# TAREFA 8\n",
    "# TODO: Responda a seguinte questão\n",
    "male, female = count_gender(data_list)\n",
    "print(\"\\nTAREFA 8: Por que a condição a seguir é Falsa?\")\n",
    "print(\"male + female == len(data_list):\", male + female == len(data_list))\n",
    "answer = \"Porque na data_list generos possui uma grande quantidade de valores nulos.\"\n",
    "print(\"resposta:\", answer)"
   ]
  },
  {
   "cell_type": "code",
   "execution_count": 44,
   "metadata": {
    "collapsed": true
   },
   "outputs": [],
   "source": [
    "# TAREFA 9\n",
    "# TODO: Ache a duração de viagem Mínima, Máxima, Média, e Mediana.\n",
    "# Você não deve usar funções prontas para isso, como max() e min().\n",
    "trip_duration_list = column_to_list(data_list, 2)\n",
    "min_trip = 0.\n",
    "max_trip = 0.\n",
    "mean_trip = 0.\n",
    "median_trip = 0.\n",
    "\n",
    "# Converte valores string em inteiro na lista trip_duration_list\n",
    "for i in range(len(trip_duration_list)):\n",
    "    trip_duration_list[i] = int(trip_duration_list[i])\n",
    "\n",
    "count = 0\n",
    "# Laço para Cálculo do mínimo e máximo sem utilizar função\n",
    "for x in range(len(trip_duration_list)):\n",
    "    count += 1\n",
    "    if count == 1:\n",
    "        max_trip = trip_duration_list[-1]\n",
    "        min_trip = trip_duration_list[1]\n",
    "    elif trip_duration_list[x] >= max_trip:\n",
    "        max_trip = trip_duration_list[x]\n",
    "    elif (min_trip == 0) and (count == 1):\n",
    "        min_trip = trip_duration_list[x]\n",
    "    elif trip_duration_list[x] <= min_trip:\n",
    "        min_trip = trip_duration_list[x]\n",
    "\n",
    "\n",
    "def sum_trip_duration(lst):\n",
    "    \"\"\"\n",
    "    Função para calcular a soma total da lista de viagem (trip_duration_list)\n",
    "    :param lst: O primeiro parâmetro (lista)\n",
    "    :return: Soma total de viagem\n",
    "    \"\"\"\n",
    "    total = 0\n",
    "    for x in lst:\n",
    "        total += x\n",
    "    return total\n",
    "\n",
    "def mean_trip_duration(lst):\n",
    "    \"\"\"\n",
    "    Função para calcular a média da lista de viagem (trip_duration_list)\n",
    "    :param lst: O primeiro parâmetro (trip_duration_list)\n",
    "    :return: Média calculada\n",
    "    \"\"\"\n",
    "    return (sum_trip_duration(lst) / len(trip_duration_list))\n",
    "\n",
    "mean_trip = round(mean_trip_duration(trip_duration_list))\n",
    "\n",
    "def median_trip_duration(lst):\n",
    "    \"\"\"\n",
    "    Função para calcular a mediana do tempo de viagem\n",
    "    :param lst: O primeiro parâmetro - lista (trip_duration_list)\n",
    "    :return: Cálculo da mediana\n",
    "    \"\"\"\n",
    "    sortedlst = sorted(lst)\n",
    "    lstLen = len(lst)\n",
    "    index = (lstLen - 1) // 2\n",
    "\n",
    "    if (lstLen % 2):\n",
    "        return sortedlst[index]\n",
    "    else:\n",
    "        return (sortedlst[index] + sortedlst[index + 1])/2.0\n",
    "\n",
    "median_trip = median_trip_duration(trip_duration_list)\n"
   ]
  },
  {
   "cell_type": "code",
   "execution_count": 45,
   "metadata": {
    "collapsed": false
   },
   "outputs": [
    {
     "name": "stdout",
     "output_type": "stream",
     "text": [
      "\n",
      "TAREFA 9: Imprimindo o mínimo, máximo, média, e mediana\n",
      "Min:  60 Max:  86338 Média:  940 Mediana:  670\n"
     ]
    }
   ],
   "source": [
    "print(\"\\nTAREFA 9: Imprimindo o mínimo, máximo, média, e mediana\")\n",
    "print(\"Min: \", min_trip, \"Max: \", max_trip, \"Média: \", mean_trip, \"Mediana: \", median_trip)"
   ]
  },
  {
   "cell_type": "code",
   "execution_count": 48,
   "metadata": {
    "collapsed": true
   },
   "outputs": [],
   "source": [
    "# TAREFA 10\n",
    "# Gênero é fácil porque nós temos apenas algumas opções. E quanto a start_stations? Quantas opções ele tem?\n",
    "# TODO: Verifique quantos tipos de start_stations nós temos, usando set()\n",
    "# Utilizando a função set() os tipos de start_stations distintas\n",
    "start_stations = set(column_to_list(data_list, 3))"
   ]
  },
  {
   "cell_type": "code",
   "execution_count": 49,
   "metadata": {
    "collapsed": false
   },
   "outputs": [
    {
     "name": "stdout",
     "output_type": "stream",
     "text": [
      "\n",
      "TAREFA 10: Imprimindo as start stations:\n",
      "582\n",
      "{'Sedgwick St & North Ave', 'Laramie Ave & Gladys Ave', 'Humboldt Blvd & Armitage Ave', 'Benson Ave & Church St', 'Michigan Ave & Pearson St', 'Washtenaw Ave & Lawrence Ave', 'Western Ave & Monroe St', 'Western Ave & Winnebago Ave', 'Clark St & Lunt Ave', 'Theater on the Lake', 'Cottage Grove Ave & 63rd St', 'Millennium Park', 'Spaulding Ave & Armitage Ave', 'Lake Park Ave & 35th St', 'Morgan St & Pershing Rd', 'Hermitage Ave & Polk St', 'Kedzie Ave & Roosevelt Rd', 'Lincoln Ave & Winona St', 'Cicero Ave & Flournoy St', 'Buckingham Fountain', 'Wabash Ave & 8th St', 'Broadway & Waveland Ave', 'Halsted St & 21st St', 'Larrabee St & Kingsbury St', 'Wilton Ave & Diversey Pkwy', 'Manor Ave & Leland Ave', 'Halsted St & 37th St', 'St. Louis Ave & Balmoral Ave', 'Racine Ave & 13th St', 'Loomis St & Jackson Blvd', 'Central St & Girard Ave', 'Ravenswood Ave & Montrose Ave (*)', 'Michigan Ave & Jackson Blvd', 'Pine Grove Ave & Waveland Ave', 'McClurg Ct & Illinois St', 'Fairfield Ave & Roosevelt Rd', 'Damen Ave & Clybourn Ave', 'Damen Ave & Grand Ave', 'Central Park Ave & North Ave', 'Indiana Ave & Roosevelt Rd', 'Wentworth Ave & 24th St', 'Winchester Ave & Elston Ave', 'Sheridan Rd & Buena Ave', 'Avers Ave & Belmont Ave', 'Lombard Ave & Garfield St', 'Clybourn Ave & Division St', 'Lakefront Trail & Bryn Mawr Ave', 'Saginaw Ave & Exchange Ave', 'Ashland Ave & Chicago Ave', 'Clifton Ave & Lawrence Ave', 'Damen Ave & Charleston St', 'Western Ave & Lunt Ave', 'Damen Ave & Cortland St', 'Kedzie Ave & Foster Ave', 'Stony Island Ave & 67th St', 'Southport Ave & Waveland Ave', 'State St & 33rd St', 'State St & Randolph St', 'Indiana Ave & 31st St', 'Broadway & Argyle St', 'LaSalle St & Adams St', 'Sawyer Ave & Irving Park Rd', 'Central Park Blvd & 5th Ave', 'Kedzie Ave & Harrison St', 'Canal St & Taylor St', 'Lawndale Ave & 23rd St', 'Morgan St & Lake St', 'Broadway & Belmont Ave', 'Albany Ave & 26th St', 'Ashland Ave & Division St', 'Central St Metra', 'Lake Park Ave & 56th St', 'Ridge Blvd & Howard St', 'Phillips Ave & 79th St', 'Damen Ave & Coulter St', 'Humphrey Ave & Ontario St', 'Shields Ave & 43rd St', 'Lombard Ave & Madison St', 'Normal Ave & 72nd St', 'Southport Ave & Belmont Ave', 'Lincoln Ave & Diversey Pkwy', 'Ashland Ave & Garfield Blvd', 'Seeley Ave & Roscoe St', 'Racine Ave & 61st St', 'Ritchie Ct & Banks St', 'Federal St & Polk St', 'Forest Ave & Chicago Ave', 'Sacramento Blvd & Franklin Blvd', 'California Ave & Byron St', 'Dearborn Pkwy & Delaware Pl', 'Franklin St & Monroe St', 'Canal St & Adams St', 'Morgan St & 18th St', 'Michigan Ave & Lake St', 'Glenwood Ave & Touhy Ave', 'Dusable Harbor', 'Clifton Ave & Armitage Ave', 'Exchange Ave & 79th St', 'Paulina St & Howard St', 'Damen Ave & Madison St', 'Kimball Ave & Belmont Ave', 'Wabash Ave & Cermak Rd', 'Southport Ave & Irving Park Rd', 'South Shore Dr & 67th St', 'Ashland Ave & 13th St', 'Racine Ave (May St) & Fulton St', 'Lake Shore Dr & Diversey Pkwy', 'Kedzie Ave & Bryn Mawr Ave', 'Chicago Ave & Washington St', 'Franklin St & Jackson Blvd', 'Racine Ave & 35th St', 'Ashland Ave & Blackhawk St', 'Aberdeen St & Monroe St', 'Blue Island Ave & 18th St', 'Seeley Ave & Garfield Blvd', 'Albany Ave & Bloomingdale Ave', 'Columbus Dr & Randolph St', 'State St & Pearson St', 'Mies van der Rohe Way & Chicago Ave', 'Paulina St & 18th St', 'Franklin St & Quincy St', 'Oakley Ave & Touhy Ave', 'Spaulding Ave & Division St', 'Burnham Harbor', 'Cicero Ave & Quincy St', 'Clark St & Berwyn Ave', 'Clinton St & Tilden St', 'Broadway & Cornelia Ave', 'Union Ave & Root St', 'Wells St & Concord Ln', 'Financial Pl & Congress Pkwy', 'Michigan Ave & 14th St', 'Laramie Ave & Madison St', 'Christiana Ave & Lawrence Ave', 'Kostner Ave & Adams St', 'Loomis St & Lexington St', 'Western Ave & Granville Ave', 'Ashland Ave & 63rd St', 'Racine Ave & Garfield Blvd', 'Wolcott Ave & Polk St', 'Streeter Dr & Grand Ave', 'Kedzie Ave & 24th St', 'Lake Park Ave & 53rd St', 'Lincoln Ave & Belle Plaine Ave', 'Leavitt St & Archer Ave', 'Ashland Ave & Wrightwood Ave', 'Knox Ave & Montrose Ave', 'Ashland Ave & 50th St', 'Commercial Ave & 83rd St', 'Field Museum', 'Kilbourn Ave & Irving Park Rd', 'Racine Ave & Congress Pkwy', 'Loomis St & Archer Ave', 'Leavitt St & North Ave', 'Damen Ave & Wellington Ave', 'MLK Jr Dr & 63rd St', 'Ashland Ave & Harrison St', 'Cornell Ave & Hyde Park Blvd', 'McClurg Ct & Erie St', 'Rhodes Ave & 32nd St', 'Richmond St & Diversey Ave', '63rd St Beach', 'Elizabeth St & 47th St', 'Field Blvd & South Water St', 'Clark St & Touhy Ave', 'Elmwood Ave & Austin St', 'Damen Ave & Cullerton St', 'Marion St & South Blvd', 'Clinton St & 18th St', 'Peoria St & Jackson Blvd', 'Halsted St & 63rd St', 'LaSalle St & Jackson Blvd', 'Western Blvd & 48th Pl', 'State St & 29th St', 'Cannon Dr & Fullerton Ave', 'Marshfield Ave & 44th St', 'Lincoln Ave & Waveland Ave', 'Cuyler Ave & Augusta St', 'Broadway & Thorndale Ave', 'California Ave & Division St', 'Jeffery Blvd & 76th St', 'Elston Ave & Wabansia Ave', 'Wabash Ave & Roosevelt Rd', 'Milwaukee Ave & Grand Ave', 'Ellis Ave & 60th St', 'Damen Ave & 51st St', 'Clarendon Ave & Gordon Ter', 'Halsted St & Willow St', 'Pulaski Rd & Congress Pkwy', 'Morgan St & Polk St', 'Oak Park Ave & South Blvd', 'Clinton St & Madison St', 'Leavitt St & Addison St', 'Franklin St & Chicago Ave', 'Eckhart Park', 'University Library (NU)', 'May St & Cullerton St', 'Damen Ave & Augusta Blvd', 'Cottage Grove Ave & 78th St', 'Ashland Ave & Grace St', 'Racine Ave & Belmont Ave', 'Ashland Ave & Lake St', 'Ashland Ave & 21st St', 'Larrabee St & North Ave', 'Morgan St & 31st St', 'Wacker Dr & Washington St', 'Sheffield Ave & Fullerton Ave', 'Central Park Ave & Elbridge Ave', 'Aberdeen St & Jackson Blvd', 'Clark St & Randolph St', 'Cottage Grove Ave & 51st St', 'Canal St & Monroe St (*)', 'Dorchester Ave & 63rd St', 'Halsted St & Archer Ave', 'Wisconsin Ave & Madison St', 'Princeton Ave & 47th St', 'Southport Ave & Clybourn Ave', 'Kenton Ave & Madison St', 'Stony Island Ave & South Chicago Ave', 'Broadway & Wilson Ave', 'Wood St & 35th St', 'Clinton St & Washington Blvd', 'Sedgwick St & Huron St', 'Kingsbury St & Erie St', 'Larrabee St & Menomonee St', 'Kedzie Ave & Chicago Ave', 'Drake Ave & Addison St', 'Western Ave & 24th St', 'Clark St & Elmdale Ave', 'Ashland Ave & McDowell Ave', 'Western Ave & 28th St', 'California Ave & 26th St', 'Broadway & Barry Ave', 'Milwaukee Ave & Cuyler Ave', 'Racine Ave & Wrightwood Ave', 'Sheridan Rd & Lawrence Ave', 'MLK Jr Dr & 56th St (*)', 'Wells St & Polk St', 'Halsted St & Dickens Ave', 'Kedzie Ave & Lake St', 'Oakley Ave & Irving Park Rd', 'Racine Ave & Randolph St', 'MLK Jr Dr & 47th St', 'Franklin St & Lake St', 'Maplewood Ave & Peterson Ave', 'Wentworth Ave & 63rd St', 'Indiana Ave & 40th St', 'Lincoln Ave & Roscoe St', 'Halsted St & North Branch St', 'Hampden Ct & Diversey Pkwy', 'Sheffield Ave & Kingsbury St', 'Montrose Harbor', 'Austin Blvd & Chicago Ave', 'Wabash Ave & Adams St', 'Lincoln Ave & Leavitt St', 'Emerald Ave & 31st St', 'Hoyne Ave & 47th St', 'California Ave & Fletcher St', 'Millard Ave & 26th St', 'LaSalle St & Washington St', 'Wood St & Taylor St', 'Dorchester Ave & 49th St', 'Kimbark Ave & 53rd St', 'Loomis St & Taylor St (*)', 'Desplaines St & Jackson Blvd', 'Damen Ave & Pershing Rd', 'Green St & Madison St', 'Sheridan Rd & Noyes St (NU)', 'Cottage Grove Ave & Oakwood Blvd', 'Wells St & Huron St', 'Wilton Ave & Belmont Ave', 'Talman Ave & Addison St', 'Ashland Ave & Belle Plaine Ave', 'St. Clair St & Erie St', 'Wentworth Ave & 35th St', 'Halsted St & Roscoe St', 'Michigan Ave & Washington St', 'Yates Blvd & 75th St', 'Wabash Ave & Grand Ave', 'Rush St & Superior St', 'Normal Ave & Archer Ave', 'Phillips Ave & 82nd St', 'Cottage Grove Ave & 67th St', 'Warren Park East', 'Green St & Randolph St', 'Noble St & Milwaukee Ave', 'Clarendon Ave & Leland Ave', 'Rush St & Cedar St', 'Rainbow Beach', 'Wells St & Elm St', 'Wood St & Hubbard St', 'Sheridan Rd & Loyola Ave', 'Woodlawn Ave & Lake Park Ave', 'Central Ave & Chicago Ave', 'Halsted St & 35th St (*)', 'Greenwood Ave & 47th St', 'Clark St & Armitage Ave', 'Halsted St & Maxwell St', 'Sheffield Ave & Webster Ave', 'Jeffery Blvd & 71st St', 'Cicero Ave & Lake St', 'Broadway & Granville Ave', 'Pulaski Rd & Lake St', 'Ravenswood Ave & Lawrence Ave', 'Campbell Ave & Fullerton Ave', 'Shore Dr & 55th St', 'Indiana Ave & 26th St', 'Claremont Ave & Hirsch St', 'Kedzie Ave & 21st St', 'Damen Ave & 59th St', 'Orleans St & Chestnut St (NEXT Apts)', 'Ogden Ave & Chicago Ave', 'Prairie Ave & 43rd St', 'Austin Blvd & Lake St', 'Dearborn St & Erie St', 'Western Ave & Division St', 'Clark St & 9th St (AMLI)', 'Vernon Ave & 79th St', 'Clinton St & Lake St', 'Wabash Ave & Wacker Pl', 'State St & Harrison St', 'Cottage Grove Ave & 47th St', 'Clark St & Schiller St', 'Broadway & Berwyn Ave', 'Larrabee St & Armitage Ave', 'Western Ave & Walton St', 'State St & 19th St', 'Southport Ave & Wrightwood Ave', 'State St & Van Buren St', 'State St & Kinzie St', 'Damen Ave & Sunnyside Ave', 'Wolcott Ave & Fargo Ave', 'Pine Grove Ave & Irving Park Rd', 'Emerald Ave & 28th St', 'East Ave & Madison St', 'Bissell St & Armitage Ave', 'Ashland Ave & Augusta Blvd', 'Prairie Ave & Garfield Blvd', 'Leavitt St & Lawrence Ave', 'Stony Island Ave & 75th St', 'Clark St & Leland Ave', 'Calumet Ave & 35th St', 'State St & 79th St', 'Paulina Ave & North Ave', 'Calumet Ave & 51st St', 'Shields Ave & 28th Pl', 'Sheridan Rd & Montrose Ave', 'Southport Ave & Clark St', 'Sheffield Ave & Willow St', 'Racine Ave & Fullerton Ave', 'Sheffield Ave & Wellington Ave', 'Lake Shore Dr & Ohio St', 'Ellis Ave & 53rd St', 'Dearborn St & Adams St', 'Milwaukee Ave & Wabansia Ave', 'Orleans St & Merchandise Mart Plaza', 'Halsted St & Wrightwood Ave', 'Campbell Ave & Montrose Ave', 'Stave St & Armitage Ave', 'Throop St & 52nd St', 'Damen Ave & Pierce Ave', 'Clark St & Lake St', 'Larrabee St & Webster Ave', 'Conservatory Dr & Lake St', 'Wentworth Ave & 33rd St', 'Bosworth Ave & Howard St', 'Western Ave & 21st St', 'Wabash Ave & 87th St', 'Carpenter St & Huron St', 'Marshfield Ave & Cortland St', 'Dodge Ave & Church St', 'Racine Ave & 65th St', 'Wood St & Division St', 'South Chicago Ave & 83rd St', 'Ridge Blvd & Touhy Ave', 'May St & Taylor St', 'Cityfront Plaza Dr & Pioneer Ct', 'State St & 76th St', 'LaSalle St & Illinois St', 'Ashland Ave & Grand Ave', 'California Ave & Cortez St', 'Sedgwick St & Schiller St', 'Clark St & Wellington Ave', 'Halsted St & Polk St', 'Sheridan Rd & Greenleaf Ave', 'Ellis Ave & 83rd St', 'Clark St & Jarvis Ave', 'Drake Ave & Montrose Ave', 'Damen Ave & Leland Ave', 'Shields Ave & 31st St', 'Calumet Ave & 21st St', 'Museum of Science and Industry', 'Stony Island Ave & 71st St', 'Monticello Ave & Irving Park Rd', 'Calumet Ave & 71st St', 'Halsted St & 51st St', 'Clark St & Grace St', 'Vernon Ave & 75th St', 'Orleans St & Ohio St', 'Clark St & Bryn Mawr Ave', 'Ashland Ave & Pershing Rd', 'Damen Ave & Melrose Ave', 'Wabash Ave & 16th St', 'Kedzie Ave & Milwaukee Ave', 'May St & 69th St', 'Mies van der Rohe Way & Chestnut St', 'Wells St & Evergreen Ave', 'Stetson Ave & South Water St', 'Clark St & Columbia Ave', 'Clinton St & Jackson Blvd', 'California Ave & Altgeld St', 'DuSable Museum', 'Racine Ave & 18th St', 'Kilbourn Ave & Milwaukee Ave', 'MLK Jr Dr & 29th St', 'Michigan Ave & 18th St', 'Kosciuszko Park', 'Pulaski Rd & Madison St', 'Kostner Ave & Lake St', 'Halsted St & 69th St', 'Canal St & Madison St', 'Sheffield Ave & Waveland Ave', 'South Shore Dr & 71st St', 'Stockton Dr & Wrightwood Ave', 'Clarendon Ave & Junior Ter', 'Troy St & North Ave', 'Racine Ave & 15th St', 'Greenwood Ave & 79th St', 'Damen Ave & Chicago Ave', 'Dayton St & North Ave', 'Western Ave & Leland Ave', 'Oakley Ave & Roscoe St', 'Evans Ave & 75th St', 'Greenview Ave & Jarvis Ave', 'Ravenswood Ave & Balmoral Ave', 'Lincoln Ave & Belmont Ave', 'Campbell Ave & North Ave', 'Central Ave & Harrison St', 'California Ave & 23rd Pl', 'Warren Park West', 'Sheffield Ave & Wrightwood Ave', 'Cottage Grove Ave & 83rd St', 'Lake Shore Dr & Monroe St', 'California Ave & North Ave', 'Shedd Aquarium', 'Keystone Ave & Fullerton Ave', 'Milwaukee Ave & Rockwell St', 'Drake Ave & Fullerton Ave', 'South Shore Dr & 74th St', 'Clinton St & Polk St (*)', 'California Ave & Montrose Ave', 'Damen Ave & Foster Ave', 'Clark St & Winnemac Ave', 'Lake Park Ave & 47th St', 'Paulina St & Montrose Ave', 'Bennett Ave & 79th St', 'Southport Ave & Wellington Ave', 'Wabash Ave & 83rd St', 'Cottage Grove Ave & 71st St', 'Orleans St & Elm St (*)', 'Clark St & Montrose Ave', 'Ogden Ave & Roosevelt Rd', 'Halsted St & 59th St', 'Lincoln Ave & Fullerton Ave', 'California Ave & Francis Pl', 'Lake Shore Dr & North Blvd', 'Avondale Ave & Irving Park Rd', 'Southport Ave & Roscoe St', 'Larrabee St & Oak St', 'Damen Ave & Division St', 'Sangamon St & Washington Blvd (*)', 'Wentworth Ave & Archer Ave', 'Clark St & Congress Pkwy', 'Kingsbury St & Kinzie St', 'Cottage Grove Ave & 43rd St', 'Broadway & Ridge Ave', 'Laramie Ave & Kinzie St', 'Michigan Ave & Congress Pkwy', 'Glenwood Ave & Morse Ave', 'Wood St & Milwaukee Ave', 'Artesian Ave & Hubbard St', 'Rockwell St & Eastwood Ave', 'Clark St & Wrightwood Ave', 'Western Ave & Congress Pkwy', 'Eastlake Ter & Rogers Ave', 'Harper Ave & 59th St', 'Lake Shore Dr & Belmont Ave', 'Morgan Ave & 14th Pl', 'Marine Dr & Ainslie St', 'California Ave & Milwaukee Ave', 'McCormick Place', 'Clark St & Schreiber Ave', 'Oak Park Ave & Harrison St', 'Ashland Ave & 66th St', 'Michigan Ave & Madison St', 'Ravenswood Ave & Berteau Ave', 'Calumet Ave & 33rd St', '2112 W Peterson Ave', 'Albany (Kedzie) Ave & Montrose Ave', 'Marshfield Ave & 59th St', 'Daley Center Plaza', 'Ashland Ave & 69th St', 'University Ave & 57th St', 'Wells St & Walton St', 'California Ave & 21st St', 'Wells St & 19th St', 'Halsted St & Roosevelt Rd', 'State St & Pershing Rd', 'Dearborn St & Monroe St', 'MLK Jr Dr & Oakwood Blvd', 'Ashland Ave & Archer Ave', 'Halsted St & 56th St', 'Budlong Woods Library', 'Michigan Ave & 8th St', 'Perry Ave & 69th St', 'Mason Ave & Madison St', 'Princeton Ave & Garfield Blvd', 'Kedzie Ave & Palmer Ct', 'Desplaines St & Kinzie St', '900 W Harrison St', 'Lincoln Ave & Addison St', 'Kedzie Ave & Leland Ave', 'Francisco Ave & Foster Ave', 'Forest Ave & Lake St', 'Washtenaw Ave & 15th St (*)', 'Ogden Ave & Race Ave', 'Valli Produce - Evanston Plaza', 'Ravenswood Ave & Irving Park Rd', 'East Ave & Garfield St', 'Pulaski Rd & Eddy St', 'Central Park Ave & Ogden Ave', 'Woodlawn Ave & 55th St', 'Leavitt St & Armitage Ave', 'Keystone Ave & Montrose Ave', 'Ridgeland Ave & Lake St', 'Logan Blvd & Elston Ave', 'Desplaines St & Randolph St', 'Canal St & Harrison St', 'State St & 35th St', 'Woodlawn Ave & 75th St', 'Sedgwick St & Webster Ave', 'Clinton St & Roosevelt Rd', 'Greenview Ave & Fullerton Ave', 'Chicago Ave & Sheridan Rd', 'Broadway & Sheridan Rd', 'Jeffery Blvd & 67th St', 'Greenview Ave & Diversey Pkwy', 'Central Ave & Madison St', 'Clark St & Chicago Ave', 'Rush St & Hubbard St', 'Fort Dearborn Dr & 31st St', 'Michigan Ave & Oak St', 'California Ave & Lake St', 'Troy St & Elston Ave', 'Central Ave & Lake St', 'Clark St & Lincoln Ave', 'Halsted St & Blackhawk St (*)', 'Halsted St & 18th St', 'Sheridan Rd & Irving Park Rd', 'Larrabee St & Division St', 'Clark St & North Ave', 'Halsted St & Diversey Pkwy', 'Ellis Ave & 55th St', 'Clark St & Elm St', 'Blackstone Ave & Hyde Park Blvd', 'Stony Island Ave & 82nd St', 'MLK Jr Dr & 83rd St', 'Ashland Ave & Wellington Ave', 'Fairbanks Ct & Grand Ave', 'Adler Planetarium', 'Wallace St & 35th St', 'Western Ave & Howard St', 'Jefferson St & Monroe St', 'Eberhart Ave & 61st St', 'Ogden Ave & Congress Pkwy', 'Halsted St & 47th Pl', 'Lakeview Ave & Fullerton Pkwy', 'Calumet Ave & 18th St', 'Stony Island Ave & 64th St', 'Ellis Ave & 58th St', 'Ada St & Washington Blvd', 'Lake Shore Dr & Wellington Ave'}\n"
     ]
    }
   ],
   "source": [
    "print(\"\\nTAREFA 10: Imprimindo as start stations:\")\n",
    "print(len(start_stations))\n",
    "print(start_stations)"
   ]
  },
  {
   "cell_type": "code",
   "execution_count": 50,
   "metadata": {
    "collapsed": true
   },
   "outputs": [],
   "source": [
    "# TAREFA 11\n",
    "# Volte e tenha certeza que você documentou suas funções. Explique os parâmetros de entrada, a saída, e o que a função faz. Exemplo:\n",
    "# def new_function(param1: int, param2: str) -> list:\n",
    "\"\"\"\n",
    "      Função de exemplo com anotações.\n",
    "      Argumentos:\n",
    "          param1: O primeiro parâmetro.\n",
    "          param2: O segundo parâmetro.\n",
    "      Retorna:\n",
    "          Uma lista de valores x.\n",
    "\n",
    "\"\"\"\n"
   ]
  },
  {
   "cell_type": "code",
   "execution_count": 51,
   "metadata": {
    "collapsed": false
   },
   "outputs": [
    {
     "name": "stdout",
     "output_type": "stream",
     "text": [
      "Você vai encarar o desafio? (yes ou no)\n",
      "\n",
      "TAREFA 12: Imprimindo resultados para count_items()\n",
      "Tipos: ['', 'Female', 'Male'] Counts: [316867, 298784, 935854]\n"
     ]
    }
   ],
   "source": [
    "# TAREFA 12 - Desafio! (Opcional)\n",
    "# TODO: Crie uma função para contar tipos de usuários, sem definir os tipos\n",
    "# para que nós possamos usar essa função com outra categoria de dados.\n",
    "print(\"Você vai encarar o desafio? (yes ou no)\")\n",
    "answer = \"yes\"\n",
    "\n",
    "def count_items(column_list):\n",
    "    item_types = list(set(column_list))\n",
    "    count_items = [0 for _ in item_types]\n",
    "    for element in column_list:\n",
    "        index = item_types.index(element)\n",
    "        count_items[index] +=1\n",
    "    return item_types,count_items\n",
    "\n",
    "\n",
    "if answer == \"yes\":\n",
    "    # ------------ NÃO MUDE NENHUM CÓDIGO AQUI ------------\n",
    "    column_list = column_to_list(data_list, -2)\n",
    "    types, counts = count_items(column_list)\n",
    "    print(\"\\nTAREFA 12: Imprimindo resultados para count_items()\")\n",
    "    print(\"Tipos:\", types, \"Counts:\", counts)\n",
    "    assert len(types) == 3, \"TAREFA 12: Há 3 tipos de gênero!\"\n",
    "    assert sum(counts) == 1551505, \"TAREFA 12: Resultado de retorno incorreto!\"\n",
    "    # -----------------------------------------------------\n"
   ]
  },
  {
   "cell_type": "code",
   "execution_count": null,
   "metadata": {
    "collapsed": true
   },
   "outputs": [],
   "source": []
  }
 ],
 "metadata": {
  "anaconda-cloud": {},
  "kernelspec": {
   "display_name": "Python [conda env:anaconda3]",
   "language": "python",
   "name": "conda-env-anaconda3-py"
  },
  "language_info": {
   "codemirror_mode": {
    "name": "ipython",
    "version": 3
   },
   "file_extension": ".py",
   "mimetype": "text/x-python",
   "name": "python",
   "nbconvert_exporter": "python",
   "pygments_lexer": "ipython3",
   "version": "3.5.2"
  }
 },
 "nbformat": 4,
 "nbformat_minor": 1
}
